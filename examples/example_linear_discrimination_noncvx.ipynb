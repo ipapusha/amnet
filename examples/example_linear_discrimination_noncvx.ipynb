{
 "cells": [
  {
   "cell_type": "code",
   "execution_count": 2,
   "metadata": {
    "collapsed": true
   },
   "outputs": [],
   "source": [
    "%matplotlib inline \n",
    "\n",
    "from __future__ import division\n",
    "\n",
    "import sys\n",
    "if '../' not in sys.path: sys.path.append(\"../\")\n",
    "\n",
    "import numpy as np\n",
    "import amnet\n",
    "import cvxpy\n",
    "\n",
    "from numpy.random import seed, randn\n",
    "import matplotlib.pyplot as plt"
   ]
  },
  {
   "cell_type": "code",
   "execution_count": 3,
   "metadata": {
    "collapsed": true
   },
   "outputs": [],
   "source": [
    "# Replicate BV Fig 8.10 using CVXPY\n",
    "# data generation\n",
    "n = 2\n",
    "N = 10\n",
    "M = 10\n",
    "seed(0)\n",
    "Y = np.vstack((\n",
    "    np.hstack((1.5 + 0.9*randn(1, int(0.6*N)), 1.5 + 0.7*randn(1, int(0.4*N)))),\n",
    "    np.hstack((2*(randn(1, int(0.6*N)) + 1), 2*(randn(1, int(0.4*N)) - 1)))\n",
    "))\n",
    "X = np.vstack((\n",
    "    np.hstack((-1.5 + 0.9*randn(1,int(0.6*M)),  -1.5 + 0.7*randn(1, int(0.4*M)))),\n",
    "    np.hstack((2*(randn(1, int(0.6*M)) - 1), 2*(randn(1, int(0.4*M)) + 1))),\n",
    "))\n",
    "T = np.array([[-1, 1], [1, 1]])\n",
    "Y = np.dot(T, Y)\n",
    "X = np.dot(T, Y)"
   ]
  },
  {
   "cell_type": "code",
   "execution_count": 6,
   "metadata": {},
   "outputs": [
    {
     "ename": "DCPError",
     "evalue": "Problem does not follow DCP rules.",
     "output_type": "error",
     "traceback": [
      "\u001b[0;31m---------------------------------------------------------------------------\u001b[0m",
      "\u001b[0;31mDCPError\u001b[0m                                  Traceback (most recent call last)",
      "\u001b[0;32m<ipython-input-6-47816946dcf7>\u001b[0m in \u001b[0;36m<module>\u001b[0;34m()\u001b[0m\n\u001b[1;32m     13\u001b[0m \u001b[0mprob\u001b[0m \u001b[0;34m=\u001b[0m \u001b[0mcvxpy\u001b[0m\u001b[0;34m.\u001b[0m\u001b[0mProblem\u001b[0m\u001b[0;34m(\u001b[0m\u001b[0mobj\u001b[0m\u001b[0;34m,\u001b[0m \u001b[0mcons\u001b[0m\u001b[0;34m)\u001b[0m\u001b[0;34m\u001b[0m\u001b[0m\n\u001b[1;32m     14\u001b[0m \u001b[0;34m\u001b[0m\u001b[0m\n\u001b[0;32m---> 15\u001b[0;31m \u001b[0mresult\u001b[0m \u001b[0;34m=\u001b[0m \u001b[0mprob\u001b[0m\u001b[0;34m.\u001b[0m\u001b[0msolve\u001b[0m\u001b[0;34m(\u001b[0m\u001b[0;34m)\u001b[0m\u001b[0;34m\u001b[0m\u001b[0m\n\u001b[0m\u001b[1;32m     16\u001b[0m \u001b[0;32mprint\u001b[0m \u001b[0mresult\u001b[0m\u001b[0;34m\u001b[0m\u001b[0m\n",
      "\u001b[0;32m/home/spc923/.local/lib/python2.7/site-packages/cvxpy/problems/problem.pyc\u001b[0m in \u001b[0;36msolve\u001b[0;34m(self, *args, **kwargs)\u001b[0m\n\u001b[1;32m    207\u001b[0m             \u001b[0;32mreturn\u001b[0m \u001b[0mfunc\u001b[0m\u001b[0;34m(\u001b[0m\u001b[0mself\u001b[0m\u001b[0;34m,\u001b[0m \u001b[0;34m*\u001b[0m\u001b[0margs\u001b[0m\u001b[0;34m,\u001b[0m \u001b[0;34m**\u001b[0m\u001b[0mkwargs\u001b[0m\u001b[0;34m)\u001b[0m\u001b[0;34m\u001b[0m\u001b[0m\n\u001b[1;32m    208\u001b[0m         \u001b[0;32melse\u001b[0m\u001b[0;34m:\u001b[0m\u001b[0;34m\u001b[0m\u001b[0m\n\u001b[0;32m--> 209\u001b[0;31m             \u001b[0;32mreturn\u001b[0m \u001b[0mself\u001b[0m\u001b[0;34m.\u001b[0m\u001b[0m_solve\u001b[0m\u001b[0;34m(\u001b[0m\u001b[0;34m*\u001b[0m\u001b[0margs\u001b[0m\u001b[0;34m,\u001b[0m \u001b[0;34m**\u001b[0m\u001b[0mkwargs\u001b[0m\u001b[0;34m)\u001b[0m\u001b[0;34m\u001b[0m\u001b[0m\n\u001b[0m\u001b[1;32m    210\u001b[0m \u001b[0;34m\u001b[0m\u001b[0m\n\u001b[1;32m    211\u001b[0m     \u001b[0;34m@\u001b[0m\u001b[0mclassmethod\u001b[0m\u001b[0;34m\u001b[0m\u001b[0m\n",
      "\u001b[0;32m/home/spc923/.local/lib/python2.7/site-packages/cvxpy/problems/problem.pyc\u001b[0m in \u001b[0;36m_solve\u001b[0;34m(self, solver, ignore_dcp, warm_start, verbose, parallel, **kwargs)\u001b[0m\n\u001b[1;32m    281\u001b[0m                       \"Solving a convex relaxation.\")\n\u001b[1;32m    282\u001b[0m             \u001b[0;32melse\u001b[0m\u001b[0;34m:\u001b[0m\u001b[0;34m\u001b[0m\u001b[0m\n\u001b[0;32m--> 283\u001b[0;31m                 \u001b[0;32mraise\u001b[0m \u001b[0mDCPError\u001b[0m\u001b[0;34m(\u001b[0m\u001b[0;34m\"Problem does not follow DCP rules.\"\u001b[0m\u001b[0;34m)\u001b[0m\u001b[0;34m\u001b[0m\u001b[0m\n\u001b[0m\u001b[1;32m    284\u001b[0m \u001b[0;34m\u001b[0m\u001b[0m\n\u001b[1;32m    285\u001b[0m         \u001b[0;32mif\u001b[0m \u001b[0msolver\u001b[0m \u001b[0;34m==\u001b[0m \u001b[0ms\u001b[0m\u001b[0;34m.\u001b[0m\u001b[0mLS\u001b[0m\u001b[0;34m:\u001b[0m\u001b[0;34m\u001b[0m\u001b[0m\n",
      "\u001b[0;31mDCPError\u001b[0m: Problem does not follow DCP rules."
     ]
    }
   ],
   "source": [
    "# solution via CVXPY\n",
    "a = cvxpy.Variable(n)\n",
    "b = cvxpy.Variable(1)\n",
    "u = cvxpy.Variable(N)\n",
    "v = cvxpy.Variable(M)\n",
    "obj = cvxpy.Minimize(sum(u) + sum(v))\n",
    "cons = [X.T * a - b >= 1 - u,\n",
    "        Y.T * a - b <= -(1 - v),\n",
    "        u >= 0,\n",
    "        v >= 0,\n",
    "        cvxpy.norm1(u) >=1,\n",
    "        cvxpy.norm1(v) >=1]\n",
    "prob = cvxpy.Problem(obj, cons)\n",
    "\n",
    "result = prob.solve()\n",
    "print result"
   ]
  },
  {
   "cell_type": "code",
   "execution_count": 4,
   "metadata": {},
   "outputs": [
    {
     "data": {
      "text/plain": [
       "(-10, 10)"
      ]
     },
     "execution_count": 4,
     "metadata": {},
     "output_type": "execute_result"
    },
    {
     "data": {
      "image/png": "[encoded data removed]",
      "text/plain": [
       "<matplotlib.figure.Figure at 0x10db9a590>"
      ]
     },
     "metadata": {},
     "output_type": "display_data"
    }
   ],
   "source": [
    "# graph CVXPY solution\n",
    "t_min = min(np.hstack((X[0,:], Y[0,:])))\n",
    "t_max = max(np.hstack((X[0,:], Y[0,:])))\n",
    "tt = np.linspace(t_min-1, t_max+1, 100)\n",
    "p = np.ravel(-a.value[0]/a.value[1]*tt + b.value/a.value[1])\n",
    "p1 = np.ravel(-a.value[0]*tt/a.value[1] + (b.value+1)/a.value[1])\n",
    "p2 = np.ravel(-a.value[0]*tt/a.value[1] + (b.value-1)/a.value[1])\n",
    "plt.plot(X[0,:], X[1,:], 'o', Y[0,:], Y[1,:], 'o')\n",
    "plt.plot(tt, p, '-r', tt, p1, '--r', tt, p2, '--r')\n",
    "plt.title('Appriximate Linear Discrimination')\n",
    "plt.axis('equal')\n",
    "plt.xlim(-10, 10)\n",
    "plt.ylim(-10, 10)"
   ]
  },
  {
   "cell_type": "code",
   "execution_count": 7,
   "metadata": {},
   "outputs": [
    {
     "name": "stdout",
     "output_type": "stream",
     "text": [
      "\n",
      "itr | lo          | hi          | gam         | res   | obj         | feas        \n",
      "===============================================================================\n",
      "  1 | -1.0486e+06 |  1.0486e+06 |           0 | unsat | None        | False \n",
      "  2 |           0 |  1.0486e+06 |  5.2429e+05 | sat   |      10.396 | False \n",
      "  3 |           0 |  5.2429e+05 |  2.6214e+05 | sat   |      10.396 | False \n",
      "  4 |           0 |  2.6214e+05 |  1.3107e+05 | sat   |      10.396 | False \n",
      "  5 |           0 |  1.3107e+05 |       65536 | sat   |      10.396 | False \n",
      "  6 |           0 |       65536 |       32768 | sat   |      10.396 | False \n",
      "  7 |           0 |       32768 |       16384 | sat   |      10.396 | False \n",
      "  8 |           0 |       16384 |        8192 | sat   |      10.396 | False \n",
      "  9 |           0 |        8192 |        4096 | sat   |      10.396 | False \n",
      " 10 |           0 |        4096 |        2048 | sat   |      10.396 | False \n",
      " 11 |           0 |        2048 |        1024 | sat   |      10.396 | False \n",
      " 12 |           0 |        1024 |         512 | sat   |      10.396 | False \n",
      " 13 |           0 |         512 |         256 | sat   |      10.396 | False \n",
      " 14 |           0 |         256 |         128 | sat   |      10.396 | False \n",
      " 15 |           0 |         128 |          64 | sat   |      10.396 | False \n",
      " 16 |           0 |          64 |          32 | sat   |      10.396 | False \n",
      " 17 |           0 |          32 |          16 | sat   |      10.396 | False \n",
      " 18 |           0 |          16 |           8 | sat   |           8 | False \n",
      " 19 |           0 |           8 |           4 | unsat |         8.0 | False \n",
      " 20 |           4 |           8 |           6 | sat   |           6 | False \n",
      " 21 |           4 |           6 |           5 | sat   |           5 | False \n",
      " 22 |           4 |           5 |         4.5 | sat   |         4.5 | False \n",
      "Solution found.\n",
      "  objval: 4.500000\n",
      "   point: [ 0.86592261 -0.05959819  1.63639614  0.          0.          0.          0.\n",
      "  0.          1.87981122  0.          0.          0.          0.          0.\n",
      "  1.59988557  0.          0.          0.          0.94011293  0.          0.\n",
      "  0.          0.08019029]\n"
     ]
    }
   ],
   "source": [
    "# solution via AMNET\n",
    "x = amnet.Variable(n + 1 + N + M, name='x')\n",
    "a = x[0:n]\n",
    "b = x[n:n+1]\n",
    "u = x[n+1:n+1+N]\n",
    "v = x[n+1+N:n+1+N+M]\n",
    "Em = np.ones((M,1))\n",
    "En = np.ones((N,1))\n",
    "assert len(a) == n and len(b) == 1 and len(u) == N and len(v) == M\n",
    "\n",
    "obj = amnet.opt.Minimize(amnet.atoms.add_all(u) + amnet.atoms.add_all(v))\n",
    "cons = [X.T * a - Em * b >= 1 - u,\n",
    "        Y.T * a - En * b <= -(1 - v),\n",
    "        u >= 0,\n",
    "        v >= 0,\n",
    "       amnet.atoms.norm1(u)>=1,\n",
    "       amnet.atoms.norm1(v)>=1]\n",
    "prob = amnet.opt.Problem(obj, cons)\n",
    "\n",
    "result = prob.solve()"
   ]
  },
  {
   "cell_type": "code",
   "execution_count": 8,
   "metadata": {},
   "outputs": [
    {
     "data": {
      "text/plain": [
       "(-10, 10)"
      ]
     },
     "execution_count": 8,
     "metadata": {},
     "output_type": "execute_result"
    },
    {
     "data": {
      "image/png": "[encoded data removed]",
      "text/plain": [
       "<matplotlib.figure.Figure at 0x7fa32a090410>"
      ]
     },
     "metadata": {},
     "output_type": "display_data"
    }
   ],
   "source": [
    "# graph AMNET solution\n",
    "t_min = min(np.hstack((X[0,:], Y[0,:])))\n",
    "t_max = max(np.hstack((X[0,:], Y[0,:])))\n",
    "tt = np.linspace(t_min-1, t_max+1, 100)\n",
    "av = a.eval(result.value)\n",
    "bv = b.eval(result.value)\n",
    "p = -av[0]/av[1]*tt + bv/av[1]\n",
    "p1 = -av[0]*tt/av[1] + (bv+1)/av[1]\n",
    "p2 = -av[0]*tt/av[1] + (bv-1)/av[1]\n",
    "plt.plot(X[0,:], X[1,:], 'o', Y[0,:], Y[1,:], 'o')\n",
    "plt.plot(tt, p, '-r', tt, p1, '--r', tt, p2, '--r')\n",
    "plt.title('Appriximate Linear Discrimination')\n",
    "plt.axis('equal')\n",
    "plt.xlim(-10, 10)\n",
    "plt.ylim(-10, 10)"
   ]
  }
 ],
 "metadata": {
  "kernelspec": {
   "display_name": "Python 2",
   "language": "python",
   "name": "python2"
  },
  "language_info": {
   "codemirror_mode": {
    "name": "ipython",
    "version": 2
   },
   "file_extension": ".py",
   "mimetype": "text/x-python",
   "name": "python",
   "nbconvert_exporter": "python",
   "pygments_lexer": "ipython2",
   "version": "2.7.13"
  }
 },
 "nbformat": 4,
 "nbformat_minor": 1
}
