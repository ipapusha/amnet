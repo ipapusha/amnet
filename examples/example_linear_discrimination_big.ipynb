{
 "cells": [
  {
   "cell_type": "code",
   "execution_count": 1,
   "metadata": {},
   "outputs": [],
   "source": [
    "%matplotlib inline \n",
    "\n",
    "from __future__ import division\n",
    "\n",
    "import sys\n",
    "if '../' not in sys.path: sys.path.append(\"../\")\n",
    "\n",
    "import numpy as np\n",
    "import amnet\n",
    "import cvxpy\n",
    "\n",
    "from numpy.random import seed, randn\n",
    "import matplotlib.pyplot as plt\n",
    "\n",
    "import z3\n",
    "\n",
    "# set up global z3 parameters\n",
    "# parameters from https://stackoverflow.com/a/12516269\n",
    "z3.set_param('auto_config', False)\n",
    "z3.set_param('smt.case_split', 5)\n",
    "z3.set_param('smt.relevancy', 2)"
   ]
  },
  {
   "cell_type": "code",
   "execution_count": 2,
   "metadata": {
    "collapsed": true
   },
   "outputs": [],
   "source": [
    "# Replicate BV Fig 8.10 using CVXPY\n",
    "# data generation\n",
    "n = 2\n",
    "N = 30\n",
    "M = 30\n",
    "seed(0)\n",
    "Y = np.vstack((\n",
    "    np.hstack((1.5 + 0.9*randn(1, int(0.6*N)), 1.5 + 0.7*randn(1, int(0.4*N)))),\n",
    "    np.hstack((2*(randn(1, int(0.6*N)) + 1), 2*(randn(1, int(0.4*N)) - 1)))\n",
    "))\n",
    "X = np.vstack((\n",
    "    np.hstack((-1.5 + 0.9*randn(1,int(0.6*M)),  -1.5 + 0.7*randn(1, int(0.4*M)))),\n",
    "    np.hstack((2*(randn(1, int(0.6*M)) - 1), 2*(randn(1, int(0.4*M)) + 1))),\n",
    "))\n",
    "T = np.array([[-1, 1], [1, 1]])\n",
    "Y = np.dot(T, Y)\n",
    "X = np.dot(T, Y)"
   ]
  },
  {
   "cell_type": "code",
   "execution_count": 3,
   "metadata": {},
   "outputs": [
    {
     "name": "stdout",
     "output_type": "stream",
     "text": [
      "12.5872977541\n"
     ]
    }
   ],
   "source": [
    "# solution via CVXPY\n",
    "a = cvxpy.Variable(n)\n",
    "b = cvxpy.Variable(1)\n",
    "u = cvxpy.Variable(N)\n",
    "v = cvxpy.Variable(M)\n",
    "obj = cvxpy.Minimize(sum(u) + sum(v))\n",
    "cons = [X.T * a - b >= 1 - u,\n",
    "        Y.T * a - b <= -(1 - v),\n",
    "        u >= 0,\n",
    "        v >= 0]\n",
    "prob = cvxpy.Problem(obj, cons)\n",
    "\n",
    "result = prob.solve()\n",
    "print result"
   ]
  },
  {
   "cell_type": "code",
   "execution_count": 4,
   "metadata": {},
   "outputs": [
    {
     "data": {
      "text/plain": [
       "(-10, 10)"
      ]
     },
     "execution_count": 4,
     "metadata": {},
     "output_type": "execute_result"
    },
    {
     "data": {
      "image/png": "[encoded data removed]",
      "text/plain": [
       "<matplotlib.figure.Figure at 0x10ed4fc90>"
      ]
     },
     "metadata": {},
     "output_type": "display_data"
    }
   ],
   "source": [
    "# graph CVXPY solution\n",
    "t_min = min(np.hstack((X[0,:], Y[0,:])))\n",
    "t_max = max(np.hstack((X[0,:], Y[0,:])))\n",
    "tt = np.linspace(t_min-1, t_max+1, 100)\n",
    "p = np.ravel(-a.value[0]/a.value[1]*tt + b.value/a.value[1])\n",
    "p1 = np.ravel(-a.value[0]*tt/a.value[1] + (b.value+1)/a.value[1])\n",
    "p2 = np.ravel(-a.value[0]*tt/a.value[1] + (b.value-1)/a.value[1])\n",
    "plt.plot(X[0,:], X[1,:], 'o', Y[0,:], Y[1,:], 'o')\n",
    "plt.plot(tt, p, '-r', tt, p1, '--r', tt, p2, '--r')\n",
    "plt.title('Appriximate Linear Discrimination')\n",
    "plt.axis('equal')\n",
    "plt.xlim(-10, 10)\n",
    "plt.ylim(-10, 10)"
   ]
  },
  {
   "cell_type": "code",
   "execution_count": 5,
   "metadata": {},
   "outputs": [
    {
     "name": "stdout",
     "output_type": "stream",
     "text": [
      "\n",
      "itr | lo          | hi          | gam         | res   | obj         | feas        \n",
      "===============================================================================\n",
      "  1 | -1.0486e+06 |  1.0486e+06 |           0 | unsat | None        | False \n",
      "  2 |           0 |  1.0486e+06 |  5.2429e+05 | sat   |          60 | True \n",
      "  3 |           0 |  5.2429e+05 |  2.6214e+05 | sat   |          60 | True \n",
      "  4 |           0 |  2.6214e+05 |  1.3107e+05 | sat   |          60 | True \n",
      "  5 |           0 |  1.3107e+05 |       65536 | sat   |          60 | True \n",
      "  6 |           0 |       65536 |       32768 | sat   |          60 | True \n",
      "  7 |           0 |       32768 |       16384 | sat   |          60 | True \n",
      "  8 |           0 |       16384 |        8192 | sat   |          60 | True \n",
      "  9 |           0 |        8192 |        4096 | sat   |          60 | True \n",
      " 10 |           0 |        4096 |        2048 | sat   |          60 | True \n",
      " 11 |           0 |        2048 |        1024 | sat   |          60 | True \n",
      " 12 |           0 |        1024 |         512 | sat   |          60 | True \n",
      " 13 |           0 |         512 |         256 | sat   |          60 | True \n",
      " 14 |           0 |         256 |         128 | sat   |          60 | True \n",
      " 15 |           0 |         128 |          64 | sat   |          60 | True \n",
      " 16 |           0 |          64 |          32 | sat   |          32 | False \n",
      " 17 |           0 |          32 |          16 | sat   |          16 | False \n",
      " 18 |           0 |          16 |           8 | unsat |        16.0 | False \n",
      " 19 |           8 |          16 |          12 | unsat |        16.0 | False \n",
      " 20 |          12 |          16 |          14 | sat   |          14 | False \n",
      " 21 |          12 |          14 |          13 | sat   |          13 | False \n",
      " 22 |          12 |          13 |        12.5 | unsat |        13.0 | False \n",
      "Solution found.\n",
      "  objval: 13.000000\n",
      "   point: [ 0.76016059 -0.28226778  0.37816368  0.          0.10619464  0.          0.\n",
      "  0.          1.74048075  0.31584307  1.79142576  0.          0.          0.\n",
      "  0.          0.          2.26283054  0.          0.          0.\n",
      "  1.38531071  0.          0.          0.          0.          0.          0.\n",
      "  0.          0.          0.          0.          0.          0.          0.\n",
      "  0.          0.          0.          0.          1.08028347  0.29851435\n",
      "  1.30519793  0.          0.          0.          0.          0.\n",
      "  1.76434876  0.          0.          0.          0.94957003  0.          0.\n",
      "  0.          0.          0.          0.          0.          0.          0.\n",
      "  0.          0.          0.        ]\n"
     ]
    }
   ],
   "source": [
    "# solution via AMNET\n",
    "x = amnet.Variable(n + 1 + N + M, name='x')\n",
    "a = x[0:n]\n",
    "b = x[n:n+1]\n",
    "u = x[n+1:n+1+N]\n",
    "v = x[n+1+N:n+1+N+M]\n",
    "Em = np.ones((M,1))\n",
    "En = np.ones((N,1))\n",
    "assert len(a) == n and len(b) == 1 and len(u) == N and len(v) == M\n",
    "\n",
    "obj = amnet.opt.Minimize(amnet.atoms.add_all(u) + amnet.atoms.add_all(v))\n",
    "cons = [X.T * a - Em * b >= 1 - u,\n",
    "        Y.T * a - En * b <= -(1 - v),\n",
    "        u >= 0,\n",
    "        v >= 0]\n",
    "prob = amnet.opt.Problem(obj, cons)\n",
    "\n",
    "result = prob.solve()"
   ]
  },
  {
   "cell_type": "code",
   "execution_count": 6,
   "metadata": {},
   "outputs": [
    {
     "data": {
      "text/plain": [
       "(-10, 10)"
      ]
     },
     "execution_count": 6,
     "metadata": {},
     "output_type": "execute_result"
    },
    {
     "data": {
      "image/png": "[encoded data removed]",
      "text/plain": [
       "<matplotlib.figure.Figure at 0x10ef1eb10>"
      ]
     },
     "metadata": {},
     "output_type": "display_data"
    }
   ],
   "source": [
    "# graph AMNET solution\n",
    "t_min = min(np.hstack((X[0,:], Y[0,:])))\n",
    "t_max = max(np.hstack((X[0,:], Y[0,:])))\n",
    "tt = np.linspace(t_min-1, t_max+1, 100)\n",
    "av = a.eval(result.value)\n",
    "bv = b.eval(result.value)\n",
    "p = -av[0]/av[1]*tt + bv/av[1]\n",
    "p1 = -av[0]*tt/av[1] + (bv+1)/av[1]\n",
    "p2 = -av[0]*tt/av[1] + (bv-1)/av[1]\n",
    "plt.plot(X[0,:], X[1,:], 'o', Y[0,:], Y[1,:], 'o')\n",
    "plt.plot(tt, p, '-r', tt, p1, '--r', tt, p2, '--r')\n",
    "plt.title('Appriximate Linear Discrimination')\n",
    "plt.axis('equal')\n",
    "plt.xlim(-10, 10)\n",
    "plt.ylim(-10, 10)"
   ]
  }
 ],
 "metadata": {
  "kernelspec": {
   "display_name": "Python 2",
   "language": "python",
   "name": "python2"
  },
  "language_info": {
   "codemirror_mode": {
    "name": "ipython",
    "version": 2
   },
   "file_extension": ".py",
   "mimetype": "text/x-python",
   "name": "python",
   "nbconvert_exporter": "python",
   "pygments_lexer": "ipython2",
   "version": "2.7.13"
  }
 },
 "nbformat": 4,
 "nbformat_minor": 1
}
