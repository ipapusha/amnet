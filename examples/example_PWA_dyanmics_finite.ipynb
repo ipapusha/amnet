{
 "cells": [
  {
   "cell_type": "code",
   "execution_count": 43,
   "metadata": {},
   "outputs": [],
   "source": [
    "%matplotlib inline\n",
    "from __future__ import division\n",
    "import sys\n",
    "if '../' not in sys.path: sys.path.append(\"../\")\n",
    "\n",
    "import matplotlib.pyplot as plt\n",
    "    \n",
    "import numpy as np\n",
    "from amnet import Variable, Linear, Constant\n",
    "from amnet import atoms, lyap\n",
    "import amnet\n",
    "from amnet.util import mfp\n",
    "import z3\n",
    "# set up global z3 parameters\n",
    "# parameters from https://stackoverflow.com/a/12516269\n",
    "z3.set_param('auto_config', False)\n",
    "z3.set_param('smt.case_split', 5)\n",
    "z3.set_param('smt.relevancy', 2)\n",
    "\n"
   ]
  },
  {
   "cell_type": "code",
   "execution_count": 44,
   "metadata": {},
   "outputs": [
    {
     "name": "stdout",
     "output_type": "stream",
     "text": [
      "OptResult(objval=None, value=None, status=<OptResultCode.INFEASIBLE: 3>, model=None)\n"
     ]
    }
   ],
   "source": [
    "def fn_dynamics(x,u):\n",
    "    A = np.array([[1,-1],[0,1]])\n",
    "    #A = np.array([[1,-1],[-0.4,1]])\n",
    "    B = np.array([[0], [1]])\n",
    "    f = A*x+B*u\n",
    "    return f\n",
    "   \n",
    "    \n",
    "n = 2\n",
    "m = 1\n",
    "T = 5\n",
    "\n",
    "x_cont = Variable(outdim=T*(n+m),name='XCont')\n",
    "x = []\n",
    "u = []\n",
    "for t in xrange(T):\n",
    "    x.append(x_cont[t*(n+m)+0:t*(n+m)+n])\n",
    "    u.append(x_cont[t*(n+m)+n:t*(n+m)+n+m])\n",
    "    assert len(x[t]) == n and len(u[t])==m\n",
    "    \n",
    "x_init = Constant(x[0],np.array([[0],[0]]))\n",
    "x_final = Constant(x[T-1],np.array([[100],[0]]))\n",
    "u_sat = 5\n",
    "u_min = 1\n",
    "    \n",
    "obj = amnet.opt.Minimize(amnet.atoms.norm1(amnet.atoms.from_list(u)))\n",
    "cons = []\n",
    "cons.append(x[0] == x_init)\n",
    "for t in xrange(T-1):\n",
    "    cons.append(x[t+1] == fn_dynamics(x[t],u[t]))\n",
    "    cons.append(amnet.atoms.norminf(u[t]) <= u_sat)\n",
    "    #cons.append(amnet.atoms.norminf(u[t]) >= u_min)\n",
    "cons.append(amnet.atoms.norminf(u[T-1]) <= u_sat)\n",
    "#cons.append(amnet.atoms.norminf(u[T-1]) >= u_min)\n",
    "cons.append(x[T-1] == x_final)\n",
    "Opts = amnet.opt.OptOptions()\n",
    "Opts.fptol = float(2**-5)\n",
    "prob = amnet.opt.Problem(obj,cons,options=Opts)\n",
    "result = prob.solve()"
   ]
  },
  {
   "cell_type": "code",
   "execution_count": 41,
   "metadata": {},
   "outputs": [
    {
     "ename": "TypeError",
     "evalue": "object of type 'NoneType' has no len()",
     "output_type": "error",
     "traceback": [
      "\u001b[0;31m---------------------------------------------------------------------------\u001b[0m",
      "\u001b[0;31mTypeError\u001b[0m                                 Traceback (most recent call last)",
      "\u001b[0;32m<ipython-input-41-e1da2c688a07>\u001b[0m in \u001b[0;36m<module>\u001b[0;34m()\u001b[0m\n\u001b[1;32m      2\u001b[0m \u001b[0muv\u001b[0m \u001b[0;34m=\u001b[0m \u001b[0;34m[\u001b[0m\u001b[0;34m]\u001b[0m\u001b[0;34m\u001b[0m\u001b[0m\n\u001b[1;32m      3\u001b[0m \u001b[0;32mfor\u001b[0m \u001b[0mt\u001b[0m \u001b[0;32min\u001b[0m \u001b[0mxrange\u001b[0m\u001b[0;34m(\u001b[0m\u001b[0mT\u001b[0m\u001b[0;34m)\u001b[0m\u001b[0;34m:\u001b[0m\u001b[0;34m\u001b[0m\u001b[0m\n\u001b[0;32m----> 4\u001b[0;31m     \u001b[0mxv\u001b[0m\u001b[0;34m.\u001b[0m\u001b[0mappend\u001b[0m\u001b[0;34m(\u001b[0m\u001b[0mx\u001b[0m\u001b[0;34m[\u001b[0m\u001b[0mt\u001b[0m\u001b[0;34m]\u001b[0m\u001b[0;34m.\u001b[0m\u001b[0meval\u001b[0m\u001b[0;34m(\u001b[0m\u001b[0mresult\u001b[0m\u001b[0;34m.\u001b[0m\u001b[0mvalue\u001b[0m\u001b[0;34m)\u001b[0m\u001b[0;34m)\u001b[0m\u001b[0;34m\u001b[0m\u001b[0m\n\u001b[0m\u001b[1;32m      5\u001b[0m     \u001b[0muv\u001b[0m\u001b[0;34m.\u001b[0m\u001b[0mappend\u001b[0m\u001b[0;34m(\u001b[0m\u001b[0mu\u001b[0m\u001b[0;34m[\u001b[0m\u001b[0mt\u001b[0m\u001b[0;34m]\u001b[0m\u001b[0;34m.\u001b[0m\u001b[0meval\u001b[0m\u001b[0;34m(\u001b[0m\u001b[0mresult\u001b[0m\u001b[0;34m.\u001b[0m\u001b[0mvalue\u001b[0m\u001b[0;34m)\u001b[0m\u001b[0;34m)\u001b[0m\u001b[0;34m\u001b[0m\u001b[0m\n\u001b[1;32m      6\u001b[0m \u001b[0;34m\u001b[0m\u001b[0m\n",
      "\u001b[0;32m/home/spc923/Documents/MachineLearning/AM/amnet/amnet/amn.pyc\u001b[0m in \u001b[0;36meval\u001b[0;34m(self, inp)\u001b[0m\n\u001b[1;32m    221\u001b[0m \u001b[0;34m\u001b[0m\u001b[0m\n\u001b[1;32m    222\u001b[0m     \u001b[0;32mdef\u001b[0m \u001b[0meval\u001b[0m\u001b[0;34m(\u001b[0m\u001b[0mself\u001b[0m\u001b[0;34m,\u001b[0m \u001b[0minp\u001b[0m\u001b[0;34m)\u001b[0m\u001b[0;34m:\u001b[0m\u001b[0;34m\u001b[0m\u001b[0m\n\u001b[0;32m--> 223\u001b[0;31m         \u001b[0;32massert\u001b[0m \u001b[0mlen\u001b[0m\u001b[0;34m(\u001b[0m\u001b[0minp\u001b[0m\u001b[0;34m)\u001b[0m \u001b[0;34m==\u001b[0m \u001b[0mself\u001b[0m\u001b[0;34m.\u001b[0m\u001b[0mindim\u001b[0m\u001b[0;34m\u001b[0m\u001b[0m\n\u001b[0m\u001b[1;32m    224\u001b[0m         \u001b[0mxv\u001b[0m \u001b[0;34m=\u001b[0m \u001b[0mself\u001b[0m\u001b[0;34m.\u001b[0m\u001b[0mx\u001b[0m\u001b[0;34m.\u001b[0m\u001b[0meval\u001b[0m\u001b[0;34m(\u001b[0m\u001b[0minp\u001b[0m\u001b[0;34m)\u001b[0m\u001b[0;34m\u001b[0m\u001b[0m\n\u001b[1;32m    225\u001b[0m         \u001b[0;32mreturn\u001b[0m \u001b[0mnp\u001b[0m\u001b[0;34m.\u001b[0m\u001b[0mdot\u001b[0m\u001b[0;34m(\u001b[0m\u001b[0mself\u001b[0m\u001b[0;34m.\u001b[0m\u001b[0mw\u001b[0m\u001b[0;34m,\u001b[0m \u001b[0mxv\u001b[0m\u001b[0;34m)\u001b[0m \u001b[0;34m+\u001b[0m \u001b[0mself\u001b[0m\u001b[0;34m.\u001b[0m\u001b[0mb\u001b[0m\u001b[0;34m\u001b[0m\u001b[0m\n",
      "\u001b[0;31mTypeError\u001b[0m: object of type 'NoneType' has no len()"
     ]
    }
   ],
   "source": [
    "xv = []\n",
    "uv = []\n",
    "for t in xrange(T):\n",
    "    xv.append(x[t].eval(result.value))\n",
    "    uv.append(u[t].eval(result.value))\n",
    "\n",
    "x1plot,x2plot = zip(*xv)\n",
    "fig, ax = plt.subplots(1,2,figsize=(10,5))\n",
    "ax[0].plot(x1plot,x2plot,'x-b')\n",
    "ax[0].set_title('System trajectory')\n",
    "ax[0].set_xlim(-5,10)\n",
    "ax[0].set_ylim(-5,10)\n",
    "uplot = zip(*uv)\n",
    "ax[1].plot(xrange(T),np.array(uplot).T,'xr')\n",
    "ax[1].set_xlim(0,T)\n",
    "ax[1].set_ylim(-10,10)\n",
    "ax[1].set_title('Applied control $u(t)$')\n",
    "plt.show()\n",
    "print uv"
   ]
  }
 ],
 "metadata": {
  "kernelspec": {
   "display_name": "Python 2",
   "language": "python",
   "name": "python2"
  },
  "language_info": {
   "codemirror_mode": {
    "name": "ipython",
    "version": 2
   },
   "file_extension": ".py",
   "mimetype": "text/x-python",
   "name": "python",
   "nbconvert_exporter": "python",
   "pygments_lexer": "ipython2",
   "version": "2.7.13"
  }
 },
 "nbformat": 4,
 "nbformat_minor": 2
}
